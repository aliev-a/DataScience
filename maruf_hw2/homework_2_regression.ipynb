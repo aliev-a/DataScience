{
 "cells": [
  {
   "cell_type": "markdown",
   "metadata": {},
   "source": [
    "# 6. Задача регрессии"
   ]
  },
  {
   "cell_type": "markdown",
   "metadata": {},
   "source": [
    "**Выбор датасета для регрессии:**\n",
    "   - Выберите датасет из репозитория UCI (Archive) для задачи регрессии с количеством данных **>1000 и количеством признаков >8**.\n",
    "   - Обучите модель `CatBoostRegressor` и оцените её точность с использованием всех доступных метрик."
   ]
  },
  {
   "cell_type": "code",
   "execution_count": 1,
   "metadata": {},
   "outputs": [],
   "source": [
    "import funcs as fn\n",
    "import numpy as np\n",
    "import pandas as pd\n",
    "import matplotlib.pyplot as plt\n",
    "import seaborn as sns"
   ]
  },
  {
   "cell_type": "markdown",
   "metadata": {},
   "source": [
    "## Загрузка данных"
   ]
  },
  {
   "cell_type": "code",
   "execution_count": 2,
   "metadata": {},
   "outputs": [],
   "source": [
    "df=fn.get_wine_data()"
   ]
  },
  {
   "cell_type": "code",
   "execution_count": 3,
   "metadata": {},
   "outputs": [
    {
     "data": {
      "text/html": [
       "<div>\n",
       "<style scoped>\n",
       "    .dataframe tbody tr th:only-of-type {\n",
       "        vertical-align: middle;\n",
       "    }\n",
       "\n",
       "    .dataframe tbody tr th {\n",
       "        vertical-align: top;\n",
       "    }\n",
       "\n",
       "    .dataframe thead th {\n",
       "        text-align: right;\n",
       "    }\n",
       "</style>\n",
       "<table border=\"1\" class=\"dataframe\">\n",
       "  <thead>\n",
       "    <tr style=\"text-align: right;\">\n",
       "      <th></th>\n",
       "      <th>fixed acidity</th>\n",
       "      <th>volatile acidity</th>\n",
       "      <th>citric acid</th>\n",
       "      <th>residual sugar</th>\n",
       "      <th>chlorides</th>\n",
       "      <th>free sulfur dioxide</th>\n",
       "      <th>total sulfur dioxide</th>\n",
       "      <th>density</th>\n",
       "      <th>pH</th>\n",
       "      <th>sulphates</th>\n",
       "      <th>alcohol</th>\n",
       "      <th>quality</th>\n",
       "      <th>color</th>\n",
       "    </tr>\n",
       "  </thead>\n",
       "  <tbody>\n",
       "    <tr>\n",
       "      <th>134</th>\n",
       "      <td>7.9</td>\n",
       "      <td>1.04</td>\n",
       "      <td>0.05</td>\n",
       "      <td>2.20</td>\n",
       "      <td>0.084</td>\n",
       "      <td>13.0</td>\n",
       "      <td>29.0</td>\n",
       "      <td>0.99590</td>\n",
       "      <td>3.22</td>\n",
       "      <td>0.55</td>\n",
       "      <td>9.9</td>\n",
       "      <td>6</td>\n",
       "      <td>red</td>\n",
       "    </tr>\n",
       "    <tr>\n",
       "      <th>3741</th>\n",
       "      <td>7.5</td>\n",
       "      <td>0.26</td>\n",
       "      <td>0.52</td>\n",
       "      <td>13.20</td>\n",
       "      <td>0.047</td>\n",
       "      <td>64.0</td>\n",
       "      <td>179.0</td>\n",
       "      <td>0.99820</td>\n",
       "      <td>3.10</td>\n",
       "      <td>0.46</td>\n",
       "      <td>9.0</td>\n",
       "      <td>5</td>\n",
       "      <td>white</td>\n",
       "    </tr>\n",
       "    <tr>\n",
       "      <th>2649</th>\n",
       "      <td>7.3</td>\n",
       "      <td>0.24</td>\n",
       "      <td>0.34</td>\n",
       "      <td>7.50</td>\n",
       "      <td>0.048</td>\n",
       "      <td>29.0</td>\n",
       "      <td>152.0</td>\n",
       "      <td>0.99620</td>\n",
       "      <td>3.10</td>\n",
       "      <td>0.54</td>\n",
       "      <td>9.0</td>\n",
       "      <td>5</td>\n",
       "      <td>white</td>\n",
       "    </tr>\n",
       "    <tr>\n",
       "      <th>1974</th>\n",
       "      <td>5.1</td>\n",
       "      <td>0.33</td>\n",
       "      <td>0.22</td>\n",
       "      <td>1.60</td>\n",
       "      <td>0.027</td>\n",
       "      <td>18.0</td>\n",
       "      <td>89.0</td>\n",
       "      <td>0.98930</td>\n",
       "      <td>3.51</td>\n",
       "      <td>0.38</td>\n",
       "      <td>12.5</td>\n",
       "      <td>7</td>\n",
       "      <td>white</td>\n",
       "    </tr>\n",
       "    <tr>\n",
       "      <th>2770</th>\n",
       "      <td>8.2</td>\n",
       "      <td>0.61</td>\n",
       "      <td>0.45</td>\n",
       "      <td>5.40</td>\n",
       "      <td>0.030</td>\n",
       "      <td>15.0</td>\n",
       "      <td>118.0</td>\n",
       "      <td>0.99540</td>\n",
       "      <td>3.14</td>\n",
       "      <td>0.34</td>\n",
       "      <td>9.6</td>\n",
       "      <td>5</td>\n",
       "      <td>white</td>\n",
       "    </tr>\n",
       "    <tr>\n",
       "      <th>1609</th>\n",
       "      <td>8.1</td>\n",
       "      <td>0.27</td>\n",
       "      <td>0.41</td>\n",
       "      <td>1.45</td>\n",
       "      <td>0.033</td>\n",
       "      <td>11.0</td>\n",
       "      <td>63.0</td>\n",
       "      <td>0.99080</td>\n",
       "      <td>2.99</td>\n",
       "      <td>0.56</td>\n",
       "      <td>12.0</td>\n",
       "      <td>5</td>\n",
       "      <td>white</td>\n",
       "    </tr>\n",
       "    <tr>\n",
       "      <th>2222</th>\n",
       "      <td>7.2</td>\n",
       "      <td>0.24</td>\n",
       "      <td>0.34</td>\n",
       "      <td>1.10</td>\n",
       "      <td>0.045</td>\n",
       "      <td>3.0</td>\n",
       "      <td>64.0</td>\n",
       "      <td>0.99130</td>\n",
       "      <td>3.23</td>\n",
       "      <td>0.51</td>\n",
       "      <td>11.4</td>\n",
       "      <td>5</td>\n",
       "      <td>white</td>\n",
       "    </tr>\n",
       "    <tr>\n",
       "      <th>1307</th>\n",
       "      <td>6.8</td>\n",
       "      <td>0.68</td>\n",
       "      <td>0.09</td>\n",
       "      <td>3.90</td>\n",
       "      <td>0.068</td>\n",
       "      <td>15.0</td>\n",
       "      <td>29.0</td>\n",
       "      <td>0.99524</td>\n",
       "      <td>3.41</td>\n",
       "      <td>0.52</td>\n",
       "      <td>11.1</td>\n",
       "      <td>4</td>\n",
       "      <td>red</td>\n",
       "    </tr>\n",
       "    <tr>\n",
       "      <th>1523</th>\n",
       "      <td>6.8</td>\n",
       "      <td>0.48</td>\n",
       "      <td>0.25</td>\n",
       "      <td>2.00</td>\n",
       "      <td>0.076</td>\n",
       "      <td>29.0</td>\n",
       "      <td>61.0</td>\n",
       "      <td>0.99530</td>\n",
       "      <td>3.34</td>\n",
       "      <td>0.60</td>\n",
       "      <td>10.4</td>\n",
       "      <td>5</td>\n",
       "      <td>red</td>\n",
       "    </tr>\n",
       "    <tr>\n",
       "      <th>4796</th>\n",
       "      <td>7.9</td>\n",
       "      <td>0.34</td>\n",
       "      <td>0.44</td>\n",
       "      <td>6.50</td>\n",
       "      <td>0.027</td>\n",
       "      <td>47.0</td>\n",
       "      <td>126.0</td>\n",
       "      <td>0.99124</td>\n",
       "      <td>2.96</td>\n",
       "      <td>0.37</td>\n",
       "      <td>12.5</td>\n",
       "      <td>6</td>\n",
       "      <td>white</td>\n",
       "    </tr>\n",
       "  </tbody>\n",
       "</table>\n",
       "</div>"
      ],
      "text/plain": [
       "      fixed acidity  volatile acidity  citric acid  residual sugar  chlorides  \\\n",
       "134             7.9              1.04         0.05            2.20      0.084   \n",
       "3741            7.5              0.26         0.52           13.20      0.047   \n",
       "2649            7.3              0.24         0.34            7.50      0.048   \n",
       "1974            5.1              0.33         0.22            1.60      0.027   \n",
       "2770            8.2              0.61         0.45            5.40      0.030   \n",
       "1609            8.1              0.27         0.41            1.45      0.033   \n",
       "2222            7.2              0.24         0.34            1.10      0.045   \n",
       "1307            6.8              0.68         0.09            3.90      0.068   \n",
       "1523            6.8              0.48         0.25            2.00      0.076   \n",
       "4796            7.9              0.34         0.44            6.50      0.027   \n",
       "\n",
       "      free sulfur dioxide  total sulfur dioxide  density    pH  sulphates  \\\n",
       "134                  13.0                  29.0  0.99590  3.22       0.55   \n",
       "3741                 64.0                 179.0  0.99820  3.10       0.46   \n",
       "2649                 29.0                 152.0  0.99620  3.10       0.54   \n",
       "1974                 18.0                  89.0  0.98930  3.51       0.38   \n",
       "2770                 15.0                 118.0  0.99540  3.14       0.34   \n",
       "1609                 11.0                  63.0  0.99080  2.99       0.56   \n",
       "2222                  3.0                  64.0  0.99130  3.23       0.51   \n",
       "1307                 15.0                  29.0  0.99524  3.41       0.52   \n",
       "1523                 29.0                  61.0  0.99530  3.34       0.60   \n",
       "4796                 47.0                 126.0  0.99124  2.96       0.37   \n",
       "\n",
       "      alcohol  quality  color  \n",
       "134       9.9        6    red  \n",
       "3741      9.0        5  white  \n",
       "2649      9.0        5  white  \n",
       "1974     12.5        7  white  \n",
       "2770      9.6        5  white  \n",
       "1609     12.0        5  white  \n",
       "2222     11.4        5  white  \n",
       "1307     11.1        4    red  \n",
       "1523     10.4        5    red  \n",
       "4796     12.5        6  white  "
      ]
     },
     "execution_count": 3,
     "metadata": {},
     "output_type": "execute_result"
    }
   ],
   "source": [
    "df.sample(10)"
   ]
  },
  {
   "cell_type": "markdown",
   "metadata": {},
   "source": [
    "## Создание базовой модели"
   ]
  },
  {
   "cell_type": "code",
   "execution_count": 4,
   "metadata": {},
   "outputs": [],
   "source": [
    "target='alcohol'"
   ]
  },
  {
   "cell_type": "code",
   "execution_count": 5,
   "metadata": {},
   "outputs": [
    {
     "data": {
      "text/plain": [
       "fixed acidity           106\n",
       "volatile acidity        187\n",
       "citric acid              89\n",
       "residual sugar          316\n",
       "chlorides               214\n",
       "free sulfur dioxide     135\n",
       "total sulfur dioxide    276\n",
       "density                 998\n",
       "pH                      108\n",
       "sulphates               111\n",
       "alcohol                 111\n",
       "quality                   7\n",
       "color                     2\n",
       "dtype: int64"
      ]
     },
     "execution_count": 5,
     "metadata": {},
     "output_type": "execute_result"
    }
   ],
   "source": [
    "df.nunique()"
   ]
  },
  {
   "cell_type": "code",
   "execution_count": 6,
   "metadata": {},
   "outputs": [],
   "source": [
    "cat_cols=['quality', 'color']"
   ]
  },
  {
   "cell_type": "code",
   "execution_count": 7,
   "metadata": {},
   "outputs": [
    {
     "data": {
      "application/vnd.jupyter.widget-view+json": {
       "model_id": "e0c48a296db44719ad1298c2d4448337",
       "version_major": 2,
       "version_minor": 0
      },
      "text/plain": [
       "MetricVisualizer(layout=Layout(align_self='stretch', height='500px'))"
      ]
     },
     "metadata": {},
     "output_type": "display_data"
    },
    {
     "name": "stdout",
     "output_type": "stream",
     "text": [
      "mae_train: 0.2878, mae_test: 0.3267\n",
      "mse_train: 0.1401, mse_test: 0.189\n",
      "rmse_train: 0.3742, rmse_test: 0.4348\n",
      "mape_train: 0.0276, mape_test: 0.0312\n",
      "r2_train: 0.9013, r2_test: 0.8682\n",
      "adj_r2_train: 0.9011, adj_r2_test: 0.867\n"
     ]
    }
   ],
   "source": [
    "base_model, X_train, y_train, X_test, y_test, model_metrics = fn.build_model(df, cat_cols, type='regressor', target=target)"
   ]
  },
  {
   "cell_type": "code",
   "execution_count": 8,
   "metadata": {},
   "outputs": [
    {
     "data": {
      "image/png": "[encoded data removed]",
      "text/plain": [
       "<Figure size 640x480 with 1 Axes>"
      ]
     },
     "metadata": {},
     "output_type": "display_data"
    }
   ],
   "source": [
    "base_feature_importance=fn.get_feature_importance(base_model, X_train.columns)\n",
    "fn.plot_feature_importance(base_feature_importance)"
   ]
  },
  {
   "cell_type": "markdown",
   "metadata": {},
   "source": [
    "> Судя по всему, через `density` является явным индикатором уровня алкоголя и это приводит к data_leakage."
   ]
  },
  {
   "cell_type": "code",
   "execution_count": 9,
   "metadata": {},
   "outputs": [],
   "source": [
    "df_2=df.drop(['density'], axis=1).copy()"
   ]
  },
  {
   "cell_type": "markdown",
   "metadata": {},
   "source": [
    "## EDA"
   ]
  },
  {
   "cell_type": "code",
   "execution_count": 10,
   "metadata": {},
   "outputs": [
    {
     "name": "stdout",
     "output_type": "stream",
     "text": [
      "<class 'pandas.core.frame.DataFrame'>\n",
      "RangeIndex: 6497 entries, 0 to 6496\n",
      "Data columns (total 12 columns):\n",
      " #   Column                Non-Null Count  Dtype  \n",
      "---  ------                --------------  -----  \n",
      " 0   fixed acidity         6497 non-null   float64\n",
      " 1   volatile acidity      6497 non-null   float64\n",
      " 2   citric acid           6497 non-null   float64\n",
      " 3   residual sugar        6497 non-null   float64\n",
      " 4   chlorides             6497 non-null   float64\n",
      " 5   free sulfur dioxide   6497 non-null   float64\n",
      " 6   total sulfur dioxide  6497 non-null   float64\n",
      " 7   pH                    6497 non-null   float64\n",
      " 8   sulphates             6497 non-null   float64\n",
      " 9   alcohol               6497 non-null   float64\n",
      " 10  quality               6497 non-null   int64  \n",
      " 11  color                 6497 non-null   object \n",
      "dtypes: float64(10), int64(1), object(1)\n",
      "memory usage: 609.2+ KB\n"
     ]
    }
   ],
   "source": [
    "df_2.info()"
   ]
  },
  {
   "cell_type": "code",
   "execution_count": 11,
   "metadata": {},
   "outputs": [
    {
     "data": {
      "text/html": [
       "<div>\n",
       "<style scoped>\n",
       "    .dataframe tbody tr th:only-of-type {\n",
       "        vertical-align: middle;\n",
       "    }\n",
       "\n",
       "    .dataframe tbody tr th {\n",
       "        vertical-align: top;\n",
       "    }\n",
       "\n",
       "    .dataframe thead th {\n",
       "        text-align: right;\n",
       "    }\n",
       "</style>\n",
       "<table border=\"1\" class=\"dataframe\">\n",
       "  <thead>\n",
       "    <tr style=\"text-align: right;\">\n",
       "      <th></th>\n",
       "      <th>count</th>\n",
       "      <th>mean</th>\n",
       "      <th>std</th>\n",
       "      <th>min</th>\n",
       "      <th>25%</th>\n",
       "      <th>50%</th>\n",
       "      <th>75%</th>\n",
       "      <th>max</th>\n",
       "    </tr>\n",
       "  </thead>\n",
       "  <tbody>\n",
       "    <tr>\n",
       "      <th>fixed acidity</th>\n",
       "      <td>6497.0</td>\n",
       "      <td>7.22</td>\n",
       "      <td>1.30</td>\n",
       "      <td>3.80</td>\n",
       "      <td>6.40</td>\n",
       "      <td>7.00</td>\n",
       "      <td>7.70</td>\n",
       "      <td>15.90</td>\n",
       "    </tr>\n",
       "    <tr>\n",
       "      <th>volatile acidity</th>\n",
       "      <td>6497.0</td>\n",
       "      <td>0.34</td>\n",
       "      <td>0.16</td>\n",
       "      <td>0.08</td>\n",
       "      <td>0.23</td>\n",
       "      <td>0.29</td>\n",
       "      <td>0.40</td>\n",
       "      <td>1.58</td>\n",
       "    </tr>\n",
       "    <tr>\n",
       "      <th>citric acid</th>\n",
       "      <td>6497.0</td>\n",
       "      <td>0.32</td>\n",
       "      <td>0.15</td>\n",
       "      <td>0.00</td>\n",
       "      <td>0.25</td>\n",
       "      <td>0.31</td>\n",
       "      <td>0.39</td>\n",
       "      <td>1.66</td>\n",
       "    </tr>\n",
       "    <tr>\n",
       "      <th>residual sugar</th>\n",
       "      <td>6497.0</td>\n",
       "      <td>5.44</td>\n",
       "      <td>4.76</td>\n",
       "      <td>0.60</td>\n",
       "      <td>1.80</td>\n",
       "      <td>3.00</td>\n",
       "      <td>8.10</td>\n",
       "      <td>65.80</td>\n",
       "    </tr>\n",
       "    <tr>\n",
       "      <th>chlorides</th>\n",
       "      <td>6497.0</td>\n",
       "      <td>0.06</td>\n",
       "      <td>0.04</td>\n",
       "      <td>0.01</td>\n",
       "      <td>0.04</td>\n",
       "      <td>0.05</td>\n",
       "      <td>0.06</td>\n",
       "      <td>0.61</td>\n",
       "    </tr>\n",
       "    <tr>\n",
       "      <th>free sulfur dioxide</th>\n",
       "      <td>6497.0</td>\n",
       "      <td>30.53</td>\n",
       "      <td>17.75</td>\n",
       "      <td>1.00</td>\n",
       "      <td>17.00</td>\n",
       "      <td>29.00</td>\n",
       "      <td>41.00</td>\n",
       "      <td>289.00</td>\n",
       "    </tr>\n",
       "    <tr>\n",
       "      <th>total sulfur dioxide</th>\n",
       "      <td>6497.0</td>\n",
       "      <td>115.74</td>\n",
       "      <td>56.52</td>\n",
       "      <td>6.00</td>\n",
       "      <td>77.00</td>\n",
       "      <td>118.00</td>\n",
       "      <td>156.00</td>\n",
       "      <td>440.00</td>\n",
       "    </tr>\n",
       "    <tr>\n",
       "      <th>pH</th>\n",
       "      <td>6497.0</td>\n",
       "      <td>3.22</td>\n",
       "      <td>0.16</td>\n",
       "      <td>2.72</td>\n",
       "      <td>3.11</td>\n",
       "      <td>3.21</td>\n",
       "      <td>3.32</td>\n",
       "      <td>4.01</td>\n",
       "    </tr>\n",
       "    <tr>\n",
       "      <th>sulphates</th>\n",
       "      <td>6497.0</td>\n",
       "      <td>0.53</td>\n",
       "      <td>0.15</td>\n",
       "      <td>0.22</td>\n",
       "      <td>0.43</td>\n",
       "      <td>0.51</td>\n",
       "      <td>0.60</td>\n",
       "      <td>2.00</td>\n",
       "    </tr>\n",
       "    <tr>\n",
       "      <th>alcohol</th>\n",
       "      <td>6497.0</td>\n",
       "      <td>10.49</td>\n",
       "      <td>1.19</td>\n",
       "      <td>8.00</td>\n",
       "      <td>9.50</td>\n",
       "      <td>10.30</td>\n",
       "      <td>11.30</td>\n",
       "      <td>14.90</td>\n",
       "    </tr>\n",
       "    <tr>\n",
       "      <th>quality</th>\n",
       "      <td>6497.0</td>\n",
       "      <td>5.82</td>\n",
       "      <td>0.87</td>\n",
       "      <td>3.00</td>\n",
       "      <td>5.00</td>\n",
       "      <td>6.00</td>\n",
       "      <td>6.00</td>\n",
       "      <td>9.00</td>\n",
       "    </tr>\n",
       "  </tbody>\n",
       "</table>\n",
       "</div>"
      ],
      "text/plain": [
       "                       count    mean    std   min    25%     50%     75%  \\\n",
       "fixed acidity         6497.0    7.22   1.30  3.80   6.40    7.00    7.70   \n",
       "volatile acidity      6497.0    0.34   0.16  0.08   0.23    0.29    0.40   \n",
       "citric acid           6497.0    0.32   0.15  0.00   0.25    0.31    0.39   \n",
       "residual sugar        6497.0    5.44   4.76  0.60   1.80    3.00    8.10   \n",
       "chlorides             6497.0    0.06   0.04  0.01   0.04    0.05    0.06   \n",
       "free sulfur dioxide   6497.0   30.53  17.75  1.00  17.00   29.00   41.00   \n",
       "total sulfur dioxide  6497.0  115.74  56.52  6.00  77.00  118.00  156.00   \n",
       "pH                    6497.0    3.22   0.16  2.72   3.11    3.21    3.32   \n",
       "sulphates             6497.0    0.53   0.15  0.22   0.43    0.51    0.60   \n",
       "alcohol               6497.0   10.49   1.19  8.00   9.50   10.30   11.30   \n",
       "quality               6497.0    5.82   0.87  3.00   5.00    6.00    6.00   \n",
       "\n",
       "                         max  \n",
       "fixed acidity          15.90  \n",
       "volatile acidity        1.58  \n",
       "citric acid             1.66  \n",
       "residual sugar         65.80  \n",
       "chlorides               0.61  \n",
       "free sulfur dioxide   289.00  \n",
       "total sulfur dioxide  440.00  \n",
       "pH                      4.01  \n",
       "sulphates               2.00  \n",
       "alcohol                14.90  \n",
       "quality                 9.00  "
      ]
     },
     "execution_count": 11,
     "metadata": {},
     "output_type": "execute_result"
    }
   ],
   "source": [
    "df_2.describe().T.round(2)"
   ]
  },
  {
   "cell_type": "code",
   "execution_count": 13,
   "metadata": {},
   "outputs": [],
   "source": [
    "corr=df_2.drop(cat_cols, axis=1).corr()"
   ]
  },
  {
   "cell_type": "code",
   "execution_count": 14,
   "metadata": {},
   "outputs": [
    {
     "data": {
      "text/html": [
       "<div>\n",
       "<style scoped>\n",
       "    .dataframe tbody tr th:only-of-type {\n",
       "        vertical-align: middle;\n",
       "    }\n",
       "\n",
       "    .dataframe tbody tr th {\n",
       "        vertical-align: top;\n",
       "    }\n",
       "\n",
       "    .dataframe thead th {\n",
       "        text-align: right;\n",
       "    }\n",
       "</style>\n",
       "<table border=\"1\" class=\"dataframe\">\n",
       "  <thead>\n",
       "    <tr style=\"text-align: right;\">\n",
       "      <th></th>\n",
       "      <th>alcohol</th>\n",
       "      <th>abs_corr</th>\n",
       "    </tr>\n",
       "  </thead>\n",
       "  <tbody>\n",
       "    <tr>\n",
       "      <th>residual sugar</th>\n",
       "      <td>-0.36</td>\n",
       "      <td>0.36</td>\n",
       "    </tr>\n",
       "    <tr>\n",
       "      <th>total sulfur dioxide</th>\n",
       "      <td>-0.27</td>\n",
       "      <td>0.27</td>\n",
       "    </tr>\n",
       "    <tr>\n",
       "      <th>chlorides</th>\n",
       "      <td>-0.26</td>\n",
       "      <td>0.26</td>\n",
       "    </tr>\n",
       "    <tr>\n",
       "      <th>free sulfur dioxide</th>\n",
       "      <td>-0.18</td>\n",
       "      <td>0.18</td>\n",
       "    </tr>\n",
       "    <tr>\n",
       "      <th>pH</th>\n",
       "      <td>0.12</td>\n",
       "      <td>0.12</td>\n",
       "    </tr>\n",
       "    <tr>\n",
       "      <th>fixed acidity</th>\n",
       "      <td>-0.10</td>\n",
       "      <td>0.10</td>\n",
       "    </tr>\n",
       "    <tr>\n",
       "      <th>volatile acidity</th>\n",
       "      <td>-0.04</td>\n",
       "      <td>0.04</td>\n",
       "    </tr>\n",
       "    <tr>\n",
       "      <th>citric acid</th>\n",
       "      <td>-0.01</td>\n",
       "      <td>0.01</td>\n",
       "    </tr>\n",
       "    <tr>\n",
       "      <th>sulphates</th>\n",
       "      <td>-0.00</td>\n",
       "      <td>0.00</td>\n",
       "    </tr>\n",
       "  </tbody>\n",
       "</table>\n",
       "</div>"
      ],
      "text/plain": [
       "                      alcohol  abs_corr\n",
       "residual sugar          -0.36      0.36\n",
       "total sulfur dioxide    -0.27      0.27\n",
       "chlorides               -0.26      0.26\n",
       "free sulfur dioxide     -0.18      0.18\n",
       "pH                       0.12      0.12\n",
       "fixed acidity           -0.10      0.10\n",
       "volatile acidity        -0.04      0.04\n",
       "citric acid             -0.01      0.01\n",
       "sulphates               -0.00      0.00"
      ]
     },
     "execution_count": 14,
     "metadata": {},
     "output_type": "execute_result"
    }
   ],
   "source": [
    "corr_ranks=(\n",
    "    corr[[target]]\n",
    "    .assign(abs_corr=lambda d_: d_[target].abs())\n",
    "    .sort_values(by=['abs_corr'], ascending=False)\n",
    "    .iloc[1:]\n",
    "    .round(2)\n",
    ")\n",
    "corr_ranks"
   ]
  },
  {
   "cell_type": "markdown",
   "metadata": {},
   "source": [
    "Проверяем на мультиколлинеарность"
   ]
  },
  {
   "cell_type": "code",
   "execution_count": 15,
   "metadata": {},
   "outputs": [
    {
     "data": {
      "image/png": "[encoded data removed]",
      "text/plain": [
       "<Figure size 1000x800 with 2 Axes>"
      ]
     },
     "metadata": {},
     "output_type": "display_data"
    }
   ],
   "source": [
    "plt.figure(figsize=(10, 8))\n",
    "sns.heatmap(\n",
    "    corr,\n",
    "    annot=True,\n",
    "    fmt='.2f',\n",
    "    cmap='RdYlGn_r'\n",
    ");"
   ]
  },
  {
   "cell_type": "markdown",
   "metadata": {},
   "source": [
    "> прослеживается сильная корреляция между предикторами `free sulfur dioxide` и `total sulfur dioxide`."
   ]
  },
  {
   "cell_type": "code",
   "execution_count": 16,
   "metadata": {},
   "outputs": [],
   "source": [
    "cols_to_drop=['total sulfur dioxide']"
   ]
  },
  {
   "cell_type": "code",
   "execution_count": 17,
   "metadata": {},
   "outputs": [
    {
     "data": {
      "application/vnd.jupyter.widget-view+json": {
       "model_id": "846b68b455bc4d3da2a2d3b116ca2ca9",
       "version_major": 2,
       "version_minor": 0
      },
      "text/plain": [
       "MetricVisualizer(layout=Layout(align_self='stretch', height='500px'))"
      ]
     },
     "metadata": {},
     "output_type": "display_data"
    },
    {
     "name": "stdout",
     "output_type": "stream",
     "text": [
      "mae_train: 0.556, mae_test: 0.6134\n",
      "mse_train: 0.4966, mse_test: 0.6336\n",
      "rmse_train: 0.7047, rmse_test: 0.796\n",
      "mape_train: 0.0528, mape_test: 0.0579\n",
      "r2_train: 0.6501, r2_test: 0.5582\n",
      "adj_r2_train: 0.6494, adj_r2_test: 0.5548\n"
     ]
    }
   ],
   "source": [
    "model_2, X_train_2, y_train_2, X_test_2, y_test_2, model_metrics_2 = fn.build_model(df_2.drop(cols_to_drop, axis=1), cat_cols, type='regressor', target=target)"
   ]
  },
  {
   "cell_type": "code",
   "execution_count": null,
   "metadata": {},
   "outputs": [],
   "source": []
  },
  {
   "cell_type": "markdown",
   "metadata": {},
   "source": [
    "Проверяем распределение целевой переменной по категориальным предикторам"
   ]
  },
  {
   "cell_type": "code",
   "execution_count": 18,
   "metadata": {},
   "outputs": [
    {
     "data": {
      "image/png": "[encoded data removed]",
      "text/plain": [
       "<Figure size 1600x600 with 2 Axes>"
      ]
     },
     "metadata": {},
     "output_type": "display_data"
    }
   ],
   "source": [
    "fig, axes = plt.subplots(1, 2, figsize=(16, 6))\n",
    "\n",
    "sns.boxplot(data=df_2, x=target, hue='quality', palette='RdYlGn', ax=axes[0])\n",
    "sns.boxplot(data=df_2, x=target, hue='color', ax=axes[1], palette=['red', 'beige'])\n",
    "\n",
    "plt.show();"
   ]
  },
  {
   "cell_type": "markdown",
   "metadata": {},
   "source": [
    "Проверяем на наличие пустых значений"
   ]
  },
  {
   "cell_type": "code",
   "execution_count": 19,
   "metadata": {},
   "outputs": [
    {
     "data": {
      "text/plain": [
       "fixed acidity           0\n",
       "volatile acidity        0\n",
       "citric acid             0\n",
       "residual sugar          0\n",
       "chlorides               0\n",
       "free sulfur dioxide     0\n",
       "total sulfur dioxide    0\n",
       "density                 0\n",
       "pH                      0\n",
       "sulphates               0\n",
       "alcohol                 0\n",
       "quality                 0\n",
       "color                   0\n",
       "dtype: int64"
      ]
     },
     "execution_count": 19,
     "metadata": {},
     "output_type": "execute_result"
    }
   ],
   "source": [
    "df.isnull().sum()"
   ]
  },
  {
   "cell_type": "code",
   "execution_count": null,
   "metadata": {},
   "outputs": [],
   "source": []
  },
  {
   "cell_type": "markdown",
   "metadata": {},
   "source": [
    "Проверяем на выбросы"
   ]
  },
  {
   "cell_type": "code",
   "execution_count": 20,
   "metadata": {},
   "outputs": [
    {
     "data": {
      "text/html": [
       "<div>\n",
       "<style scoped>\n",
       "    .dataframe tbody tr th:only-of-type {\n",
       "        vertical-align: middle;\n",
       "    }\n",
       "\n",
       "    .dataframe tbody tr th {\n",
       "        vertical-align: top;\n",
       "    }\n",
       "\n",
       "    .dataframe thead th {\n",
       "        text-align: right;\n",
       "    }\n",
       "</style>\n",
       "<table border=\"1\" class=\"dataframe\">\n",
       "  <thead>\n",
       "    <tr style=\"text-align: right;\">\n",
       "      <th></th>\n",
       "      <th>lbound</th>\n",
       "      <th>min</th>\n",
       "      <th>max</th>\n",
       "      <th>ubound</th>\n",
       "    </tr>\n",
       "  </thead>\n",
       "  <tbody>\n",
       "    <tr>\n",
       "      <th>fixed acidity</th>\n",
       "      <td>2.50</td>\n",
       "      <td>3.80</td>\n",
       "      <td>15.90</td>\n",
       "      <td>11.60</td>\n",
       "    </tr>\n",
       "    <tr>\n",
       "      <th>volatile acidity</th>\n",
       "      <td>-0.28</td>\n",
       "      <td>0.08</td>\n",
       "      <td>1.58</td>\n",
       "      <td>0.91</td>\n",
       "    </tr>\n",
       "    <tr>\n",
       "      <th>citric acid</th>\n",
       "      <td>-0.17</td>\n",
       "      <td>0.00</td>\n",
       "      <td>1.66</td>\n",
       "      <td>0.81</td>\n",
       "    </tr>\n",
       "    <tr>\n",
       "      <th>residual sugar</th>\n",
       "      <td>-17.10</td>\n",
       "      <td>0.60</td>\n",
       "      <td>65.80</td>\n",
       "      <td>27.00</td>\n",
       "    </tr>\n",
       "    <tr>\n",
       "      <th>chlorides</th>\n",
       "      <td>-0.04</td>\n",
       "      <td>0.01</td>\n",
       "      <td>0.61</td>\n",
       "      <td>0.15</td>\n",
       "    </tr>\n",
       "    <tr>\n",
       "      <th>free sulfur dioxide</th>\n",
       "      <td>-55.00</td>\n",
       "      <td>1.00</td>\n",
       "      <td>289.00</td>\n",
       "      <td>113.00</td>\n",
       "    </tr>\n",
       "    <tr>\n",
       "      <th>total sulfur dioxide</th>\n",
       "      <td>-160.00</td>\n",
       "      <td>6.00</td>\n",
       "      <td>440.00</td>\n",
       "      <td>393.00</td>\n",
       "    </tr>\n",
       "    <tr>\n",
       "      <th>pH</th>\n",
       "      <td>2.48</td>\n",
       "      <td>2.72</td>\n",
       "      <td>4.01</td>\n",
       "      <td>3.95</td>\n",
       "    </tr>\n",
       "    <tr>\n",
       "      <th>sulphates</th>\n",
       "      <td>-0.08</td>\n",
       "      <td>0.22</td>\n",
       "      <td>2.00</td>\n",
       "      <td>1.11</td>\n",
       "    </tr>\n",
       "    <tr>\n",
       "      <th>alcohol</th>\n",
       "      <td>4.10</td>\n",
       "      <td>8.00</td>\n",
       "      <td>14.90</td>\n",
       "      <td>16.70</td>\n",
       "    </tr>\n",
       "    <tr>\n",
       "      <th>quality</th>\n",
       "      <td>2.00</td>\n",
       "      <td>3.00</td>\n",
       "      <td>9.00</td>\n",
       "      <td>9.00</td>\n",
       "    </tr>\n",
       "  </tbody>\n",
       "</table>\n",
       "</div>"
      ],
      "text/plain": [
       "                      lbound   min     max  ubound\n",
       "fixed acidity           2.50  3.80   15.90   11.60\n",
       "volatile acidity       -0.28  0.08    1.58    0.91\n",
       "citric acid            -0.17  0.00    1.66    0.81\n",
       "residual sugar        -17.10  0.60   65.80   27.00\n",
       "chlorides              -0.04  0.01    0.61    0.15\n",
       "free sulfur dioxide   -55.00  1.00  289.00  113.00\n",
       "total sulfur dioxide -160.00  6.00  440.00  393.00\n",
       "pH                      2.48  2.72    4.01    3.95\n",
       "sulphates              -0.08  0.22    2.00    1.11\n",
       "alcohol                 4.10  8.00   14.90   16.70\n",
       "quality                 2.00  3.00    9.00    9.00"
      ]
     },
     "execution_count": 20,
     "metadata": {},
     "output_type": "execute_result"
    }
   ],
   "source": [
    "dsc=(\n",
    "    df_2.describe().T\n",
    "    .assign(\n",
    "        iqr = lambda d_: d_['75%'] - d_['25%'],\n",
    "        lbound = lambda d_: d_['25%'] - d_['iqr'] * 3,\n",
    "        ubound = lambda d_: d_['75%'] + d_['iqr'] * 3\n",
    "    )\n",
    ").round(2)[['lbound', 'min', 'max', 'ubound']]\n",
    "dsc"
   ]
  },
  {
   "cell_type": "code",
   "execution_count": 21,
   "metadata": {},
   "outputs": [],
   "source": [
    "outliers=pd.concat(\n",
    "    list(map(\n",
    "        lambda x: df_2[\n",
    "            (df_2[x]<dsc.loc[x, 'lbound']) | (df_2[x]>dsc.loc[x, 'ubound'])\n",
    "        ],\n",
    "        df_2.drop(['color'], axis=1).columns\n",
    "    ))\n",
    ").drop_duplicates()"
   ]
  },
  {
   "cell_type": "code",
   "execution_count": 22,
   "metadata": {},
   "outputs": [
    {
     "data": {
      "text/html": [
       "<div>\n",
       "<style scoped>\n",
       "    .dataframe tbody tr th:only-of-type {\n",
       "        vertical-align: middle;\n",
       "    }\n",
       "\n",
       "    .dataframe tbody tr th {\n",
       "        vertical-align: top;\n",
       "    }\n",
       "\n",
       "    .dataframe thead th {\n",
       "        text-align: right;\n",
       "    }\n",
       "</style>\n",
       "<table border=\"1\" class=\"dataframe\">\n",
       "  <thead>\n",
       "    <tr style=\"text-align: right;\">\n",
       "      <th></th>\n",
       "      <th>fixed acidity</th>\n",
       "      <th>volatile acidity</th>\n",
       "      <th>citric acid</th>\n",
       "      <th>residual sugar</th>\n",
       "      <th>chlorides</th>\n",
       "      <th>free sulfur dioxide</th>\n",
       "      <th>total sulfur dioxide</th>\n",
       "      <th>pH</th>\n",
       "      <th>sulphates</th>\n",
       "      <th>alcohol</th>\n",
       "      <th>quality</th>\n",
       "      <th>color</th>\n",
       "    </tr>\n",
       "  </thead>\n",
       "  <tbody>\n",
       "    <tr>\n",
       "      <th>205</th>\n",
       "      <td>12.8</td>\n",
       "      <td>0.30</td>\n",
       "      <td>0.74</td>\n",
       "      <td>2.6</td>\n",
       "      <td>0.095</td>\n",
       "      <td>9.0</td>\n",
       "      <td>28.0</td>\n",
       "      <td>3.20</td>\n",
       "      <td>0.77</td>\n",
       "      <td>10.8</td>\n",
       "      <td>7</td>\n",
       "      <td>red</td>\n",
       "    </tr>\n",
       "    <tr>\n",
       "      <th>241</th>\n",
       "      <td>12.0</td>\n",
       "      <td>0.38</td>\n",
       "      <td>0.56</td>\n",
       "      <td>2.1</td>\n",
       "      <td>0.093</td>\n",
       "      <td>6.0</td>\n",
       "      <td>24.0</td>\n",
       "      <td>3.14</td>\n",
       "      <td>0.71</td>\n",
       "      <td>10.9</td>\n",
       "      <td>6</td>\n",
       "      <td>red</td>\n",
       "    </tr>\n",
       "    <tr>\n",
       "      <th>243</th>\n",
       "      <td>15.0</td>\n",
       "      <td>0.21</td>\n",
       "      <td>0.44</td>\n",
       "      <td>2.2</td>\n",
       "      <td>0.075</td>\n",
       "      <td>10.0</td>\n",
       "      <td>24.0</td>\n",
       "      <td>3.07</td>\n",
       "      <td>0.84</td>\n",
       "      <td>9.2</td>\n",
       "      <td>7</td>\n",
       "      <td>red</td>\n",
       "    </tr>\n",
       "    <tr>\n",
       "      <th>264</th>\n",
       "      <td>12.5</td>\n",
       "      <td>0.56</td>\n",
       "      <td>0.49</td>\n",
       "      <td>2.4</td>\n",
       "      <td>0.064</td>\n",
       "      <td>5.0</td>\n",
       "      <td>27.0</td>\n",
       "      <td>3.08</td>\n",
       "      <td>0.87</td>\n",
       "      <td>10.9</td>\n",
       "      <td>5</td>\n",
       "      <td>red</td>\n",
       "    </tr>\n",
       "    <tr>\n",
       "      <th>265</th>\n",
       "      <td>11.8</td>\n",
       "      <td>0.26</td>\n",
       "      <td>0.52</td>\n",
       "      <td>1.8</td>\n",
       "      <td>0.071</td>\n",
       "      <td>6.0</td>\n",
       "      <td>10.0</td>\n",
       "      <td>3.20</td>\n",
       "      <td>0.72</td>\n",
       "      <td>10.2</td>\n",
       "      <td>7</td>\n",
       "      <td>red</td>\n",
       "    </tr>\n",
       "    <tr>\n",
       "      <th>...</th>\n",
       "      <td>...</td>\n",
       "      <td>...</td>\n",
       "      <td>...</td>\n",
       "      <td>...</td>\n",
       "      <td>...</td>\n",
       "      <td>...</td>\n",
       "      <td>...</td>\n",
       "      <td>...</td>\n",
       "      <td>...</td>\n",
       "      <td>...</td>\n",
       "      <td>...</td>\n",
       "      <td>...</td>\n",
       "    </tr>\n",
       "    <tr>\n",
       "      <th>723</th>\n",
       "      <td>7.1</td>\n",
       "      <td>0.31</td>\n",
       "      <td>0.30</td>\n",
       "      <td>2.2</td>\n",
       "      <td>0.053</td>\n",
       "      <td>36.0</td>\n",
       "      <td>127.0</td>\n",
       "      <td>2.94</td>\n",
       "      <td>1.62</td>\n",
       "      <td>9.5</td>\n",
       "      <td>5</td>\n",
       "      <td>red</td>\n",
       "    </tr>\n",
       "    <tr>\n",
       "      <th>795</th>\n",
       "      <td>10.8</td>\n",
       "      <td>0.89</td>\n",
       "      <td>0.30</td>\n",
       "      <td>2.6</td>\n",
       "      <td>0.132</td>\n",
       "      <td>7.0</td>\n",
       "      <td>60.0</td>\n",
       "      <td>2.99</td>\n",
       "      <td>1.18</td>\n",
       "      <td>10.2</td>\n",
       "      <td>5</td>\n",
       "      <td>red</td>\n",
       "    </tr>\n",
       "    <tr>\n",
       "      <th>1158</th>\n",
       "      <td>6.7</td>\n",
       "      <td>0.41</td>\n",
       "      <td>0.43</td>\n",
       "      <td>2.8</td>\n",
       "      <td>0.076</td>\n",
       "      <td>22.0</td>\n",
       "      <td>54.0</td>\n",
       "      <td>3.42</td>\n",
       "      <td>1.16</td>\n",
       "      <td>10.6</td>\n",
       "      <td>6</td>\n",
       "      <td>red</td>\n",
       "    </tr>\n",
       "    <tr>\n",
       "      <th>1288</th>\n",
       "      <td>7.0</td>\n",
       "      <td>0.60</td>\n",
       "      <td>0.30</td>\n",
       "      <td>4.5</td>\n",
       "      <td>0.068</td>\n",
       "      <td>20.0</td>\n",
       "      <td>110.0</td>\n",
       "      <td>3.30</td>\n",
       "      <td>1.17</td>\n",
       "      <td>10.2</td>\n",
       "      <td>5</td>\n",
       "      <td>red</td>\n",
       "    </tr>\n",
       "    <tr>\n",
       "      <th>1367</th>\n",
       "      <td>6.9</td>\n",
       "      <td>0.54</td>\n",
       "      <td>0.30</td>\n",
       "      <td>2.2</td>\n",
       "      <td>0.088</td>\n",
       "      <td>9.0</td>\n",
       "      <td>105.0</td>\n",
       "      <td>3.25</td>\n",
       "      <td>1.18</td>\n",
       "      <td>10.5</td>\n",
       "      <td>6</td>\n",
       "      <td>red</td>\n",
       "    </tr>\n",
       "  </tbody>\n",
       "</table>\n",
       "<p>269 rows × 12 columns</p>\n",
       "</div>"
      ],
      "text/plain": [
       "      fixed acidity  volatile acidity  citric acid  residual sugar  chlorides  \\\n",
       "205            12.8              0.30         0.74             2.6      0.095   \n",
       "241            12.0              0.38         0.56             2.1      0.093   \n",
       "243            15.0              0.21         0.44             2.2      0.075   \n",
       "264            12.5              0.56         0.49             2.4      0.064   \n",
       "265            11.8              0.26         0.52             1.8      0.071   \n",
       "...             ...               ...          ...             ...        ...   \n",
       "723             7.1              0.31         0.30             2.2      0.053   \n",
       "795            10.8              0.89         0.30             2.6      0.132   \n",
       "1158            6.7              0.41         0.43             2.8      0.076   \n",
       "1288            7.0              0.60         0.30             4.5      0.068   \n",
       "1367            6.9              0.54         0.30             2.2      0.088   \n",
       "\n",
       "      free sulfur dioxide  total sulfur dioxide    pH  sulphates  alcohol  \\\n",
       "205                   9.0                  28.0  3.20       0.77     10.8   \n",
       "241                   6.0                  24.0  3.14       0.71     10.9   \n",
       "243                  10.0                  24.0  3.07       0.84      9.2   \n",
       "264                   5.0                  27.0  3.08       0.87     10.9   \n",
       "265                   6.0                  10.0  3.20       0.72     10.2   \n",
       "...                   ...                   ...   ...        ...      ...   \n",
       "723                  36.0                 127.0  2.94       1.62      9.5   \n",
       "795                   7.0                  60.0  2.99       1.18     10.2   \n",
       "1158                 22.0                  54.0  3.42       1.16     10.6   \n",
       "1288                 20.0                 110.0  3.30       1.17     10.2   \n",
       "1367                  9.0                 105.0  3.25       1.18     10.5   \n",
       "\n",
       "      quality color  \n",
       "205         7   red  \n",
       "241         6   red  \n",
       "243         7   red  \n",
       "264         5   red  \n",
       "265         7   red  \n",
       "...       ...   ...  \n",
       "723         5   red  \n",
       "795         5   red  \n",
       "1158        6   red  \n",
       "1288        5   red  \n",
       "1367        6   red  \n",
       "\n",
       "[269 rows x 12 columns]"
      ]
     },
     "execution_count": 22,
     "metadata": {},
     "output_type": "execute_result"
    }
   ],
   "source": [
    "outliers"
   ]
  },
  {
   "cell_type": "code",
   "execution_count": 23,
   "metadata": {},
   "outputs": [
    {
     "data": {
      "text/plain": [
       "0.04140372479605972"
      ]
     },
     "execution_count": 23,
     "metadata": {},
     "output_type": "execute_result"
    }
   ],
   "source": [
    "len(outliers)/len(df)"
   ]
  },
  {
   "cell_type": "code",
   "execution_count": null,
   "metadata": {},
   "outputs": [],
   "source": []
  },
  {
   "cell_type": "markdown",
   "metadata": {},
   "source": [
    "## Создаём модель после очистки выбросов"
   ]
  },
  {
   "cell_type": "code",
   "execution_count": 24,
   "metadata": {},
   "outputs": [],
   "source": [
    "no_out_df=df_2[~df_2.index.isin(outliers.index)].copy()"
   ]
  },
  {
   "cell_type": "code",
   "execution_count": 25,
   "metadata": {},
   "outputs": [
    {
     "data": {
      "application/vnd.jupyter.widget-view+json": {
       "model_id": "72a7d7a63ada44eba1af333a4ae7faa1",
       "version_major": 2,
       "version_minor": 0
      },
      "text/plain": [
       "MetricVisualizer(layout=Layout(align_self='stretch', height='500px'))"
      ]
     },
     "metadata": {},
     "output_type": "display_data"
    },
    {
     "name": "stdout",
     "output_type": "stream",
     "text": [
      "mae_train: 0.5345, mae_test: 0.5926\n",
      "mse_train: 0.465, mse_test: 0.5741\n",
      "rmse_train: 0.6819, rmse_test: 0.7577\n",
      "mape_train: 0.0506, mape_test: 0.0561\n",
      "r2_train: 0.6736, r2_test: 0.6069\n",
      "adj_r2_train: 0.6728, adj_r2_test: 0.6034\n"
     ]
    }
   ],
   "source": [
    "no_out_model, X_train_no, y_train_no, X_test_no, y_test_no, model_metrics_no = fn.build_model(no_out_df, cat_cols, type='regressor', target=target)"
   ]
  },
  {
   "cell_type": "code",
   "execution_count": null,
   "metadata": {},
   "outputs": [],
   "source": []
  },
  {
   "cell_type": "markdown",
   "metadata": {},
   "source": [
    "# 7. Анализ таргета по диапазонам"
   ]
  },
  {
   "cell_type": "markdown",
   "metadata": {},
   "source": [
    "**Разбиение таргета на диапазоны:**\n",
    "   - Разбейте **таргет** на 5 диапазонов вручную, не используя квантильное разбиение.\n",
    "   - Для каждого диапазона выведите таблицу с количеством данных в этом диапазоне и посчитайте 3 метрики: `MAE`, `RMSE`, `MAPE`."
   ]
  },
  {
   "cell_type": "code",
   "execution_count": 26,
   "metadata": {},
   "outputs": [
    {
     "data": {
      "image/png": "[encoded data removed]",
      "text/plain": [
       "<Figure size 640x480 with 1 Axes>"
      ]
     },
     "metadata": {},
     "output_type": "display_data"
    }
   ],
   "source": [
    "no_out_df[target].hist();"
   ]
  },
  {
   "cell_type": "code",
   "execution_count": 27,
   "metadata": {},
   "outputs": [],
   "source": [
    "target_bins=pd.cut(no_out_df[target], bins=[-np.inf, 9, 10, 11, 13, +np.inf], labels=['<=9', '<=10', '<=11', '<=13', '>13'])"
   ]
  },
  {
   "cell_type": "code",
   "execution_count": 28,
   "metadata": {},
   "outputs": [],
   "source": [
    "def get_metrics_per_range(cat):\n",
    "    ixs=no_out_df[target_bins==cat].index\n",
    "\n",
    "    X_tr=X_train_no[X_train_no.index.isin(ixs)] \n",
    "    X_ts=X_test_no[X_test_no.index.isin(ixs)]\n",
    "    y_tr=y_train_no[y_train_no.index.isin(ixs)] \n",
    "    y_ts=y_test_no[y_test_no.index.isin(ixs)]\n",
    "\n",
    "    range_metrics=fn.evaluate(no_out_model, X_tr, X_ts, y_tr, y_ts, type='regressor')\n",
    "\n",
    "    return pd.DataFrame(\n",
    "        data=[len(y_tr), len(y_ts)]+[v for v in range_metrics.values()],\n",
    "        index=['train_count', 'test_count']+[k for k in range_metrics.keys()]\n",
    "    ).T"
   ]
  },
  {
   "cell_type": "code",
   "execution_count": 29,
   "metadata": {},
   "outputs": [],
   "source": [
    "metrics_per_range=pd.concat(\n",
    "    list(map(\n",
    "        lambda x: get_metrics_per_range(x).assign(bin=x),\n",
    "        target_bins.cat.categories\n",
    "    )),\n",
    "    ignore_index=True\n",
    ")"
   ]
  },
  {
   "cell_type": "code",
   "execution_count": 30,
   "metadata": {},
   "outputs": [
    {
     "data": {
      "text/html": [
       "<div>\n",
       "<style scoped>\n",
       "    .dataframe tbody tr th:only-of-type {\n",
       "        vertical-align: middle;\n",
       "    }\n",
       "\n",
       "    .dataframe tbody tr th {\n",
       "        vertical-align: top;\n",
       "    }\n",
       "\n",
       "    .dataframe thead th {\n",
       "        text-align: right;\n",
       "    }\n",
       "</style>\n",
       "<table border=\"1\" class=\"dataframe\">\n",
       "  <thead>\n",
       "    <tr style=\"text-align: right;\">\n",
       "      <th></th>\n",
       "      <th>train_count</th>\n",
       "      <th>test_count</th>\n",
       "      <th>mae_train</th>\n",
       "      <th>mae_test</th>\n",
       "      <th>mse_train</th>\n",
       "      <th>mse_test</th>\n",
       "      <th>rmse_train</th>\n",
       "      <th>rmse_test</th>\n",
       "      <th>mape_train</th>\n",
       "      <th>mape_test</th>\n",
       "      <th>r2_train</th>\n",
       "      <th>r2_test</th>\n",
       "      <th>adj_r2_train</th>\n",
       "      <th>adj_r2_test</th>\n",
       "      <th>bin</th>\n",
       "    </tr>\n",
       "  </thead>\n",
       "  <tbody>\n",
       "    <tr>\n",
       "      <th>0</th>\n",
       "      <td>404.0</td>\n",
       "      <td>118.0</td>\n",
       "      <td>0.562653</td>\n",
       "      <td>0.626213</td>\n",
       "      <td>0.479573</td>\n",
       "      <td>0.613452</td>\n",
       "      <td>0.692512</td>\n",
       "      <td>0.783231</td>\n",
       "      <td>0.063687</td>\n",
       "      <td>0.070711</td>\n",
       "      <td>-21.002716</td>\n",
       "      <td>-26.621586</td>\n",
       "      <td>-21.620139</td>\n",
       "      <td>-29.487977</td>\n",
       "      <td>&lt;=9</td>\n",
       "    </tr>\n",
       "    <tr>\n",
       "      <th>1</th>\n",
       "      <td>1739.0</td>\n",
       "      <td>417.0</td>\n",
       "      <td>0.466720</td>\n",
       "      <td>0.511863</td>\n",
       "      <td>0.367907</td>\n",
       "      <td>0.430339</td>\n",
       "      <td>0.606553</td>\n",
       "      <td>0.656003</td>\n",
       "      <td>0.049094</td>\n",
       "      <td>0.053855</td>\n",
       "      <td>-3.921284</td>\n",
       "      <td>-4.816869</td>\n",
       "      <td>-3.952630</td>\n",
       "      <td>-4.974858</td>\n",
       "      <td>&lt;=10</td>\n",
       "    </tr>\n",
       "    <tr>\n",
       "      <th>2</th>\n",
       "      <td>1297.0</td>\n",
       "      <td>330.0</td>\n",
       "      <td>0.451915</td>\n",
       "      <td>0.512364</td>\n",
       "      <td>0.313721</td>\n",
       "      <td>0.403614</td>\n",
       "      <td>0.560108</td>\n",
       "      <td>0.635307</td>\n",
       "      <td>0.042799</td>\n",
       "      <td>0.048488</td>\n",
       "      <td>-2.730068</td>\n",
       "      <td>-3.509513</td>\n",
       "      <td>-2.761998</td>\n",
       "      <td>-3.665503</td>\n",
       "      <td>&lt;=11</td>\n",
       "    </tr>\n",
       "    <tr>\n",
       "      <th>3</th>\n",
       "      <td>1448.0</td>\n",
       "      <td>353.0</td>\n",
       "      <td>0.638535</td>\n",
       "      <td>0.701158</td>\n",
       "      <td>0.625931</td>\n",
       "      <td>0.782713</td>\n",
       "      <td>0.791158</td>\n",
       "      <td>0.884711</td>\n",
       "      <td>0.053255</td>\n",
       "      <td>0.058383</td>\n",
       "      <td>-0.971798</td>\n",
       "      <td>-1.531393</td>\n",
       "      <td>-0.986902</td>\n",
       "      <td>-1.613051</td>\n",
       "      <td>&lt;=13</td>\n",
       "    </tr>\n",
       "    <tr>\n",
       "      <th>4</th>\n",
       "      <td>94.0</td>\n",
       "      <td>28.0</td>\n",
       "      <td>1.204561</td>\n",
       "      <td>1.228974</td>\n",
       "      <td>1.808963</td>\n",
       "      <td>1.930450</td>\n",
       "      <td>1.344977</td>\n",
       "      <td>1.389406</td>\n",
       "      <td>0.089538</td>\n",
       "      <td>0.090936</td>\n",
       "      <td>-22.201683</td>\n",
       "      <td>-19.461319</td>\n",
       "      <td>-25.314104</td>\n",
       "      <td>-33.528476</td>\n",
       "      <td>&gt;13</td>\n",
       "    </tr>\n",
       "  </tbody>\n",
       "</table>\n",
       "</div>"
      ],
      "text/plain": [
       "   train_count  test_count  mae_train  mae_test  mse_train  mse_test  \\\n",
       "0        404.0       118.0   0.562653  0.626213   0.479573  0.613452   \n",
       "1       1739.0       417.0   0.466720  0.511863   0.367907  0.430339   \n",
       "2       1297.0       330.0   0.451915  0.512364   0.313721  0.403614   \n",
       "3       1448.0       353.0   0.638535  0.701158   0.625931  0.782713   \n",
       "4         94.0        28.0   1.204561  1.228974   1.808963  1.930450   \n",
       "\n",
       "   rmse_train  rmse_test  mape_train  mape_test   r2_train    r2_test  \\\n",
       "0    0.692512   0.783231    0.063687   0.070711 -21.002716 -26.621586   \n",
       "1    0.606553   0.656003    0.049094   0.053855  -3.921284  -4.816869   \n",
       "2    0.560108   0.635307    0.042799   0.048488  -2.730068  -3.509513   \n",
       "3    0.791158   0.884711    0.053255   0.058383  -0.971798  -1.531393   \n",
       "4    1.344977   1.389406    0.089538   0.090936 -22.201683 -19.461319   \n",
       "\n",
       "   adj_r2_train  adj_r2_test   bin  \n",
       "0    -21.620139   -29.487977   <=9  \n",
       "1     -3.952630    -4.974858  <=10  \n",
       "2     -2.761998    -3.665503  <=11  \n",
       "3     -0.986902    -1.613051  <=13  \n",
       "4    -25.314104   -33.528476   >13  "
      ]
     },
     "execution_count": 30,
     "metadata": {},
     "output_type": "execute_result"
    }
   ],
   "source": [
    "metrics_per_range"
   ]
  },
  {
   "cell_type": "code",
   "execution_count": null,
   "metadata": {},
   "outputs": [],
   "source": []
  },
  {
   "cell_type": "markdown",
   "metadata": {},
   "source": [
    "# 8. Сравнение с базовой моделью"
   ]
  },
  {
   "cell_type": "markdown",
   "metadata": {},
   "source": [
    "**Сравнение модели с бейзлайном:**\n",
    "   - Сравните точность модели с бейзлайновой моделью, которая всегда предсказывает **медианное** значение.\n",
    "   - Сформулируйте выводы по сравнению."
   ]
  },
  {
   "cell_type": "code",
   "execution_count": 31,
   "metadata": {},
   "outputs": [],
   "source": [
    "from sklearn import metrics"
   ]
  },
  {
   "cell_type": "code",
   "execution_count": 32,
   "metadata": {},
   "outputs": [
    {
     "name": "stdout",
     "output_type": "stream",
     "text": [
      "\n",
      "no_out_model prediction metrics:\n",
      "RMSE:0.7577\n",
      "MAE:0.5926\n",
      "MAPE:0.0561\n",
      "\n",
      "Mean Prediction Model Metrics:\n",
      "RMSE: 1.2086\n",
      "MAE: 1.0118\n",
      "MAPE: 9.6277\n"
     ]
    }
   ],
   "source": [
    "mean_prediction = np.full(y_test_no.shape, y_train_no.mean())\n",
    "\n",
    "rmse_mean = np.sqrt(metrics.mean_squared_error(y_test_no, mean_prediction))\n",
    "mae_mean = metrics.mean_absolute_error(y_test_no, mean_prediction)\n",
    "mape_mean = np.mean(np.abs((y_test_no - mean_prediction) / y_test_no)) * 100\n",
    "\n",
    "print(\"\\nno_out_model prediction metrics:\")\n",
    "print(f\"RMSE:{round(model_metrics_no['rmse_test'], 4)}\")\n",
    "print(f\"MAE:{round(model_metrics_no['mae_test'], 4)}\")\n",
    "print(f\"MAPE:{round(model_metrics_no['mape_test'], 4)}\")\n",
    "\n",
    "print(\"\\nMean Prediction Model Metrics:\")\n",
    "print(\"RMSE:\", round(rmse_mean, 4))\n",
    "print(\"MAE:\", round(mae_mean, 4))\n",
    "print(\"MAPE:\", round(mape_mean, 4))"
   ]
  },
  {
   "cell_type": "code",
   "execution_count": null,
   "metadata": {},
   "outputs": [],
   "source": []
  },
  {
   "cell_type": "code",
   "execution_count": null,
   "metadata": {},
   "outputs": [],
   "source": []
  }
 ],
 "metadata": {
  "kernelspec": {
   "display_name": "env_1",
   "language": "python",
   "name": "python3"
  },
  "language_info": {
   "codemirror_mode": {
    "name": "ipython",
    "version": 3
   },
   "file_extension": ".py",
   "mimetype": "text/x-python",
   "name": "python",
   "nbconvert_exporter": "python",
   "pygments_lexer": "ipython3",
   "version": "3.11.4"
  }
 },
 "nbformat": 4,
 "nbformat_minor": 2
}
