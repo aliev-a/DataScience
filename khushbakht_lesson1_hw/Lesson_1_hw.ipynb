{
 "cells": [
  {
   "cell_type": "code",
   "execution_count": 1,
   "id": "419e98cd-3aed-455f-a310-4d3eecb20ac8",
   "metadata": {},
   "outputs": [],
   "source": [
    "import pandas as pd\n",
    "import warnings\n",
    "import matplotlib.pyplot as plt\n",
    "from catboost import CatBoostClassifier, Pool\n",
    "from sklearn.model_selection import train_test_split\n",
    "from sklearn.metrics import roc_auc_score\n",
    "import numpy as np\n",
    "\n",
    "warnings.filterwarnings('ignore')"
   ]
  },
  {
   "cell_type": "markdown",
   "id": "4a1dcd0d-f1f1-4eb1-a499-f23d15fd8bbd",
   "metadata": {},
   "source": [
    "# Task №1"
   ]
  },
  {
   "cell_type": "code",
   "execution_count": 2,
   "id": "b5b0da34-4443-47fe-9a39-67f0d2caf157",
   "metadata": {},
   "outputs": [
    {
     "name": "stdout",
     "output_type": "stream",
     "text": [
      "(10000, 12)\n"
     ]
    },
    {
     "data": {
      "text/html": [
       "<div>\n",
       "<style scoped>\n",
       "    .dataframe tbody tr th:only-of-type {\n",
       "        vertical-align: middle;\n",
       "    }\n",
       "\n",
       "    .dataframe tbody tr th {\n",
       "        vertical-align: top;\n",
       "    }\n",
       "\n",
       "    .dataframe thead th {\n",
       "        text-align: right;\n",
       "    }\n",
       "</style>\n",
       "<table border=\"1\" class=\"dataframe\">\n",
       "  <thead>\n",
       "    <tr style=\"text-align: right;\">\n",
       "      <th></th>\n",
       "      <th>customer_id</th>\n",
       "      <th>credit_score</th>\n",
       "      <th>country</th>\n",
       "      <th>gender</th>\n",
       "      <th>age</th>\n",
       "      <th>tenure</th>\n",
       "      <th>balance</th>\n",
       "      <th>products_number</th>\n",
       "      <th>credit_card</th>\n",
       "      <th>active_member</th>\n",
       "      <th>estimated_salary</th>\n",
       "      <th>churn</th>\n",
       "    </tr>\n",
       "  </thead>\n",
       "  <tbody>\n",
       "    <tr>\n",
       "      <th>0</th>\n",
       "      <td>15634602</td>\n",
       "      <td>619</td>\n",
       "      <td>France</td>\n",
       "      <td>Female</td>\n",
       "      <td>42</td>\n",
       "      <td>2</td>\n",
       "      <td>0.00</td>\n",
       "      <td>1</td>\n",
       "      <td>1</td>\n",
       "      <td>1</td>\n",
       "      <td>101348.88</td>\n",
       "      <td>1</td>\n",
       "    </tr>\n",
       "    <tr>\n",
       "      <th>1</th>\n",
       "      <td>15647311</td>\n",
       "      <td>608</td>\n",
       "      <td>Spain</td>\n",
       "      <td>Female</td>\n",
       "      <td>41</td>\n",
       "      <td>1</td>\n",
       "      <td>83807.86</td>\n",
       "      <td>1</td>\n",
       "      <td>0</td>\n",
       "      <td>1</td>\n",
       "      <td>112542.58</td>\n",
       "      <td>0</td>\n",
       "    </tr>\n",
       "    <tr>\n",
       "      <th>2</th>\n",
       "      <td>15619304</td>\n",
       "      <td>502</td>\n",
       "      <td>France</td>\n",
       "      <td>Female</td>\n",
       "      <td>42</td>\n",
       "      <td>8</td>\n",
       "      <td>159660.80</td>\n",
       "      <td>3</td>\n",
       "      <td>1</td>\n",
       "      <td>0</td>\n",
       "      <td>113931.57</td>\n",
       "      <td>1</td>\n",
       "    </tr>\n",
       "    <tr>\n",
       "      <th>3</th>\n",
       "      <td>15701354</td>\n",
       "      <td>699</td>\n",
       "      <td>France</td>\n",
       "      <td>Female</td>\n",
       "      <td>39</td>\n",
       "      <td>1</td>\n",
       "      <td>0.00</td>\n",
       "      <td>2</td>\n",
       "      <td>0</td>\n",
       "      <td>0</td>\n",
       "      <td>93826.63</td>\n",
       "      <td>0</td>\n",
       "    </tr>\n",
       "    <tr>\n",
       "      <th>4</th>\n",
       "      <td>15737888</td>\n",
       "      <td>850</td>\n",
       "      <td>Spain</td>\n",
       "      <td>Female</td>\n",
       "      <td>43</td>\n",
       "      <td>2</td>\n",
       "      <td>125510.82</td>\n",
       "      <td>1</td>\n",
       "      <td>1</td>\n",
       "      <td>1</td>\n",
       "      <td>79084.10</td>\n",
       "      <td>0</td>\n",
       "    </tr>\n",
       "  </tbody>\n",
       "</table>\n",
       "</div>"
      ],
      "text/plain": [
       "   customer_id  credit_score country  gender  age  tenure    balance  \\\n",
       "0     15634602           619  France  Female   42       2       0.00   \n",
       "1     15647311           608   Spain  Female   41       1   83807.86   \n",
       "2     15619304           502  France  Female   42       8  159660.80   \n",
       "3     15701354           699  France  Female   39       1       0.00   \n",
       "4     15737888           850   Spain  Female   43       2  125510.82   \n",
       "\n",
       "   products_number  credit_card  active_member  estimated_salary  churn  \n",
       "0                1            1              1         101348.88      1  \n",
       "1                1            0              1         112542.58      0  \n",
       "2                3            1              0         113931.57      1  \n",
       "3                2            0              0          93826.63      0  \n",
       "4                1            1              1          79084.10      0  "
      ]
     },
     "execution_count": 2,
     "metadata": {},
     "output_type": "execute_result"
    }
   ],
   "source": [
    "def bank_customer():\n",
    "    bank_df = pd.read_csv(\"Bank Customer Churn Prediction.csv\")\n",
    "    return bank_df\n",
    "data = bank_customer()\n",
    "print(data.shape)\n",
    "data.head(5)"
   ]
  },
  {
   "cell_type": "code",
   "execution_count": 3,
   "id": "516b9cbd-ca09-49fc-a35f-626afea2df11",
   "metadata": {},
   "outputs": [
    {
     "data": {
      "text/plain": [
       "customer_id         0\n",
       "credit_score        0\n",
       "country             0\n",
       "gender              0\n",
       "age                 0\n",
       "tenure              0\n",
       "balance             0\n",
       "products_number     0\n",
       "credit_card         0\n",
       "active_member       0\n",
       "estimated_salary    0\n",
       "churn               0\n",
       "dtype: int64"
      ]
     },
     "execution_count": 3,
     "metadata": {},
     "output_type": "execute_result"
    }
   ],
   "source": [
    "bank_df = data.copy()\n",
    "bank_df.isna().sum()"
   ]
  },
  {
   "cell_type": "code",
   "execution_count": 4,
   "id": "f3e85a73-70e6-4e15-b788-25adbd66bf6e",
   "metadata": {},
   "outputs": [
    {
     "data": {
      "text/plain": [
       "gender\n",
       "Male      5457\n",
       "Female    4543\n",
       "Name: count, dtype: int64"
      ]
     },
     "execution_count": 4,
     "metadata": {},
     "output_type": "execute_result"
    }
   ],
   "source": [
    "bank_df.country.value_counts()\n",
    "bank_df.gender.value_counts()"
   ]
  },
  {
   "cell_type": "code",
   "execution_count": 5,
   "id": "2ec6c386-98dd-4838-9cba-47d321bcbd53",
   "metadata": {},
   "outputs": [
    {
     "data": {
      "text/plain": [
       "customer_id         0\n",
       "credit_score        0\n",
       "country             0\n",
       "gender              0\n",
       "age                 0\n",
       "tenure              0\n",
       "balance             0\n",
       "products_number     0\n",
       "credit_card         0\n",
       "active_member       0\n",
       "estimated_salary    0\n",
       "churn               0\n",
       "dtype: int64"
      ]
     },
     "execution_count": 5,
     "metadata": {},
     "output_type": "execute_result"
    }
   ],
   "source": [
    "bank_df = data.copy()\n",
    "bank_df.isna().sum()"
   ]
  },
  {
   "cell_type": "code",
   "execution_count": 6,
   "id": "2f69957a-1783-4495-96de-a37a532f5596",
   "metadata": {},
   "outputs": [],
   "source": [
    "# country = pd.get_dummies(bank_df.country, prefix='country')\n",
    "# for i in country:\n",
    "#     country[i] = country[i].map({True: 1, False: 0})\n",
    "# bank_data = pd.concat((bank_df, country), axis=1)\n",
    "# bank_data = bank_data.drop(['country'], axis=1)\n",
    "\n",
    "# bank_data.gender = (bank_data.gender=='Male').astype(int)"
   ]
  },
  {
   "cell_type": "code",
   "execution_count": 7,
   "id": "c911cf2d-4b61-4296-ac5f-ea7027f487f1",
   "metadata": {
    "scrolled": true
   },
   "outputs": [
    {
     "data": {
      "text/html": [
       "<div>\n",
       "<style scoped>\n",
       "    .dataframe tbody tr th:only-of-type {\n",
       "        vertical-align: middle;\n",
       "    }\n",
       "\n",
       "    .dataframe tbody tr th {\n",
       "        vertical-align: top;\n",
       "    }\n",
       "\n",
       "    .dataframe thead th {\n",
       "        text-align: right;\n",
       "    }\n",
       "</style>\n",
       "<table border=\"1\" class=\"dataframe\">\n",
       "  <thead>\n",
       "    <tr style=\"text-align: right;\">\n",
       "      <th></th>\n",
       "      <th>customer_id</th>\n",
       "      <th>credit_score</th>\n",
       "      <th>country</th>\n",
       "      <th>gender</th>\n",
       "      <th>age</th>\n",
       "      <th>tenure</th>\n",
       "      <th>balance</th>\n",
       "      <th>products_number</th>\n",
       "      <th>credit_card</th>\n",
       "      <th>active_member</th>\n",
       "      <th>estimated_salary</th>\n",
       "      <th>churn</th>\n",
       "    </tr>\n",
       "  </thead>\n",
       "  <tbody>\n",
       "    <tr>\n",
       "      <th>0</th>\n",
       "      <td>15634602</td>\n",
       "      <td>619</td>\n",
       "      <td>France</td>\n",
       "      <td>Female</td>\n",
       "      <td>42</td>\n",
       "      <td>2</td>\n",
       "      <td>0.00</td>\n",
       "      <td>1</td>\n",
       "      <td>1</td>\n",
       "      <td>1</td>\n",
       "      <td>101348.88</td>\n",
       "      <td>1</td>\n",
       "    </tr>\n",
       "    <tr>\n",
       "      <th>1</th>\n",
       "      <td>15647311</td>\n",
       "      <td>608</td>\n",
       "      <td>Spain</td>\n",
       "      <td>Female</td>\n",
       "      <td>41</td>\n",
       "      <td>1</td>\n",
       "      <td>83807.86</td>\n",
       "      <td>1</td>\n",
       "      <td>0</td>\n",
       "      <td>1</td>\n",
       "      <td>112542.58</td>\n",
       "      <td>0</td>\n",
       "    </tr>\n",
       "    <tr>\n",
       "      <th>2</th>\n",
       "      <td>15619304</td>\n",
       "      <td>502</td>\n",
       "      <td>France</td>\n",
       "      <td>Female</td>\n",
       "      <td>42</td>\n",
       "      <td>8</td>\n",
       "      <td>159660.80</td>\n",
       "      <td>3</td>\n",
       "      <td>1</td>\n",
       "      <td>0</td>\n",
       "      <td>113931.57</td>\n",
       "      <td>1</td>\n",
       "    </tr>\n",
       "  </tbody>\n",
       "</table>\n",
       "</div>"
      ],
      "text/plain": [
       "   customer_id  credit_score country  gender  age  tenure    balance  \\\n",
       "0     15634602           619  France  Female   42       2       0.00   \n",
       "1     15647311           608   Spain  Female   41       1   83807.86   \n",
       "2     15619304           502  France  Female   42       8  159660.80   \n",
       "\n",
       "   products_number  credit_card  active_member  estimated_salary  churn  \n",
       "0                1            1              1         101348.88      1  \n",
       "1                1            0              1         112542.58      0  \n",
       "2                3            1              0         113931.57      1  "
      ]
     },
     "execution_count": 7,
     "metadata": {},
     "output_type": "execute_result"
    }
   ],
   "source": [
    "bank_df.head(3)"
   ]
  },
  {
   "cell_type": "code",
   "execution_count": 8,
   "id": "7cce8e85-44f4-438f-8d14-d4fb123e0113",
   "metadata": {},
   "outputs": [],
   "source": [
    "X = bank_df.drop(['churn'], axis=1)\n",
    "y = bank_df['churn']"
   ]
  },
  {
   "cell_type": "code",
   "execution_count": 9,
   "id": "5e091702-8e18-4352-a485-8a309f4fe199",
   "metadata": {},
   "outputs": [
    {
     "data": {
      "text/plain": [
       "churn               1.000000\n",
       "age                 0.285323\n",
       "active_member       0.156128\n",
       "balance             0.118533\n",
       "products_number     0.047820\n",
       "credit_score        0.027094\n",
       "tenure              0.014001\n",
       "estimated_salary    0.012097\n",
       "credit_card         0.007138\n",
       "customer_id         0.006248\n",
       "Name: churn, dtype: float64"
      ]
     },
     "execution_count": 9,
     "metadata": {},
     "output_type": "execute_result"
    }
   ],
   "source": [
    "corr_table = bank_df.drop(['country', 'gender'], axis=1).corr()\n",
    "corr_table.churn.abs().sort_values(ascending=False)"
   ]
  },
  {
   "cell_type": "code",
   "execution_count": 10,
   "id": "5828988f-943f-49af-b9f6-e1a0954fdc9e",
   "metadata": {},
   "outputs": [
    {
     "data": {
      "text/plain": [
       "churn\n",
       "0    79.63\n",
       "1    20.37\n",
       "Name: proportion, dtype: float64"
      ]
     },
     "execution_count": 10,
     "metadata": {},
     "output_type": "execute_result"
    }
   ],
   "source": [
    "bank_df.churn.value_counts(normalize=True)*100"
   ]
  },
  {
   "cell_type": "markdown",
   "id": "1e370116-1350-4a19-adab-ba5eae6fec8e",
   "metadata": {},
   "source": [
    "# Task №2"
   ]
  },
  {
   "cell_type": "code",
   "execution_count": 11,
   "id": "24d7ae30-766c-415e-904b-1892384fa5d5",
   "metadata": {},
   "outputs": [],
   "source": [
    "X_train, X_test, y_train, y_test = train_test_split(X, y, test_size=0.2, random_state=42)"
   ]
  },
  {
   "cell_type": "code",
   "execution_count": 12,
   "id": "41c280c3-3fc1-4674-bf9e-837248a9a45b",
   "metadata": {},
   "outputs": [],
   "source": [
    "cat_features = ['country', 'gender', 'credit_card', 'active_member']\n",
    "\n",
    "train_pool = Pool(data=X_train, label=y_train, cat_features=cat_features)\n",
    "test_pool = Pool(data=X_test, label=y_test, cat_features=cat_features)"
   ]
  },
  {
   "cell_type": "code",
   "execution_count": 13,
   "id": "10557692-5def-4458-b91b-086b8cf5df4e",
   "metadata": {},
   "outputs": [
    {
     "data": {
      "application/vnd.jupyter.widget-view+json": {
       "model_id": "619b0696b9de49fb8a46ed9517bcc087",
       "version_major": 2,
       "version_minor": 0
      },
      "text/plain": [
       "MetricVisualizer(layout=Layout(align_self='stretch', height='500px'))"
      ]
     },
     "metadata": {},
     "output_type": "display_data"
    },
    {
     "data": {
      "text/plain": [
       "<catboost.core.CatBoostClassifier at 0x1899923ed20>"
      ]
     },
     "execution_count": 13,
     "metadata": {},
     "output_type": "execute_result"
    }
   ],
   "source": [
    "model = CatBoostClassifier(random_state=123, \n",
    "                           depth=5,\n",
    "                           iterations=100, \n",
    "                           eval_metric='AUC', \n",
    "                           verbose=0,\n",
    "                           cat_features=cat_features)\n",
    "\n",
    "model.fit(train_pool, eval_set=test_pool, plot=True)"
   ]
  },
  {
   "cell_type": "code",
   "execution_count": 14,
   "id": "e4a64044-70da-42a4-94e7-912d47d368a6",
   "metadata": {},
   "outputs": [],
   "source": [
    "from sklearn.model_selection import cross_val_score\n",
    "\n",
    "hoo_scores = cross_val_score(model, X, y, cv=5, scoring='roc_auc')"
   ]
  },
  {
   "cell_type": "code",
   "execution_count": 15,
   "id": "7a5969a2-2a53-40e8-8d82-8f7efb00bd16",
   "metadata": {},
   "outputs": [
    {
     "data": {
      "text/plain": [
       "0.8777802584431027"
      ]
     },
     "execution_count": 15,
     "metadata": {},
     "output_type": "execute_result"
    }
   ],
   "source": [
    "y_pred_proba_test = model.predict_proba(test_pool)[:, 1]\n",
    "auc_test = roc_auc_score(y_test, y_pred_proba_test)\n",
    "auc_test"
   ]
  },
  {
   "cell_type": "markdown",
   "id": "16fd23b3-c52b-4f6d-b742-9e38b9c106b1",
   "metadata": {},
   "source": [
    "# Task №3"
   ]
  },
  {
   "cell_type": "code",
   "execution_count": 16,
   "id": "153bc4e0-23c9-494d-b8c0-fd9e028671d2",
   "metadata": {},
   "outputs": [],
   "source": [
    "train_pool = Pool(data = X, label = y, cat_features = cat_features)"
   ]
  },
  {
   "cell_type": "code",
   "execution_count": 17,
   "id": "b52f1ff8-2ad5-4fae-b569-cdcb1516db5a",
   "metadata": {},
   "outputs": [],
   "source": [
    "from sklearn.model_selection import KFold\n",
    "\n",
    "kf = KFold(n_splits=5, shuffle=True, random_state=42)\n",
    "\n",
    "model = CatBoostClassifier(random_state=123, \n",
    "                           depth=5,\n",
    "                           iterations=100, \n",
    "                           eval_metric='AUC', \n",
    "                           verbose=0, \n",
    "                           cat_features=cat_features)\n",
    "\n",
    "kf_scores = cross_val_score(model, X, y, cv=kf, scoring='roc_auc')"
   ]
  },
  {
   "cell_type": "code",
   "execution_count": 18,
   "id": "fb007d92-f12f-44cb-8e7f-2f680a11562c",
   "metadata": {},
   "outputs": [
    {
     "data": {
      "text/plain": [
       "0.8705817583518284"
      ]
     },
     "execution_count": 18,
     "metadata": {},
     "output_type": "execute_result"
    }
   ],
   "source": [
    "kf_scores.mean()"
   ]
  },
  {
   "cell_type": "markdown",
   "id": "9b5d2f5e-6dee-4545-8687-228aa5e49cd6",
   "metadata": {},
   "source": [
    "# Task №4"
   ]
  },
  {
   "cell_type": "code",
   "execution_count": 19,
   "id": "68947df5-0bc6-49e0-90e1-8e7fa023e88b",
   "metadata": {},
   "outputs": [],
   "source": [
    "from sklearn.model_selection import StratifiedKFold\n",
    "\n",
    "skf = StratifiedKFold(n_splits=5)\n",
    "kfs_scores = cross_val_score(model, X, y, cv=skf, scoring='roc_auc')"
   ]
  },
  {
   "cell_type": "code",
   "execution_count": 20,
   "id": "094cd76f-a027-4855-a97f-9d417f99fdb9",
   "metadata": {},
   "outputs": [
    {
     "data": {
      "text/plain": [
       "0.8696879727384161"
      ]
     },
     "execution_count": 20,
     "metadata": {},
     "output_type": "execute_result"
    }
   ],
   "source": [
    "kfs_scores.mean()"
   ]
  },
  {
   "cell_type": "code",
   "execution_count": 21,
   "id": "e66e2444-4a18-4b50-b60a-726a09d66197",
   "metadata": {},
   "outputs": [
    {
     "name": "stdout",
     "output_type": "stream",
     "text": [
      "   id    k-fold  Stratified k-fold\n",
      "0   1  0.874493           0.869833\n",
      "1   2  0.864582           0.874189\n",
      "2   3  0.875892           0.866526\n",
      "3   4  0.876988           0.872833\n",
      "4   5  0.860954           0.865059\n"
     ]
    },
    {
     "data": {
      "text/plain": [
       "(0.8705817583518284, 0.8696879727384161)"
      ]
     },
     "execution_count": 21,
     "metadata": {},
     "output_type": "execute_result"
    }
   ],
   "source": [
    "res = pd.DataFrame({\n",
    "    'id': range(1, len(kf_scores)+1),\n",
    "    'k-fold': kf_scores,\n",
    "    'Stratified k-fold': kfs_scores\n",
    "})\n",
    "print(res) \n",
    "kf_scores.mean(), kfs_scores.mean()"
   ]
  },
  {
   "cell_type": "markdown",
   "id": "6048b85c-c497-4368-851e-4478cc705a8e",
   "metadata": {},
   "source": [
    "стратифицированный подход применяется при дисбалансе классов и гарантирует что распределение классов в каждом фолде будет примерно таким же как и в исходном датасете. Это помогает избежать смещения которое может возникнуть если модель будет обучаться и тестироваться на фолдах с сильно отличающимся распределением классов."
   ]
  },
  {
   "cell_type": "markdown",
   "id": "0deda7c6-4ca8-4753-b489-8c6656d06394",
   "metadata": {},
   "source": [
    "# Task №5"
   ]
  },
  {
   "cell_type": "code",
   "execution_count": 28,
   "id": "6a1658be-f5e7-4127-af1e-7d7b68174d7f",
   "metadata": {},
   "outputs": [
    {
     "data": {
      "text/plain": [
       "(nan, nan)"
      ]
     },
     "execution_count": 28,
     "metadata": {},
     "output_type": "execute_result"
    }
   ],
   "source": [
    "from sklearn.model_selection import LeaveOneOut\n",
    "\n",
    "loo = LeaveOneOut()\n",
    "\n",
    "loo_scores = cross_val_score(model, X, y, cv=loo, scoring='roc_auc')\n",
    "loo_scores.mean(), loo_scores.std()"
   ]
  },
  {
   "cell_type": "markdown",
   "id": "bf7445e2-faeb-406c-a372-082c4220c682",
   "metadata": {},
   "source": [
    "результат дает nan, а если указать n_splits=5, то выводит ошибку говоря что LeaveOneOut не принимает никаких аргументов (TypeError: LeaveOneOut() takes no arguments).\n",
    "\n",
    "P.S: возможно я получаю nan из за того что мой ноут слабый => процесс очень долгий"
   ]
  },
  {
   "cell_type": "markdown",
   "id": "d282b5d0-affb-4569-bc1c-cac3e0e76741",
   "metadata": {},
   "source": [
    "# Task №6"
   ]
  },
  {
   "cell_type": "code",
   "execution_count": 27,
   "id": "1701d33a-45be-43a8-afbf-45ff1846c21f",
   "metadata": {},
   "outputs": [
    {
     "data": {
      "text/html": [
       "<div>\n",
       "<style scoped>\n",
       "    .dataframe tbody tr th:only-of-type {\n",
       "        vertical-align: middle;\n",
       "    }\n",
       "\n",
       "    .dataframe tbody tr th {\n",
       "        vertical-align: top;\n",
       "    }\n",
       "\n",
       "    .dataframe thead th {\n",
       "        text-align: right;\n",
       "    }\n",
       "</style>\n",
       "<table border=\"1\" class=\"dataframe\">\n",
       "  <thead>\n",
       "    <tr style=\"text-align: right;\">\n",
       "      <th></th>\n",
       "      <th>Method</th>\n",
       "      <th>Mean</th>\n",
       "      <th>Std</th>\n",
       "    </tr>\n",
       "  </thead>\n",
       "  <tbody>\n",
       "    <tr>\n",
       "      <th>0</th>\n",
       "      <td>Hold-Out CV</td>\n",
       "      <td>0.869688</td>\n",
       "      <td>0.00351</td>\n",
       "    </tr>\n",
       "    <tr>\n",
       "      <th>1</th>\n",
       "      <td>K-Fold CV</td>\n",
       "      <td>0.870582</td>\n",
       "      <td>0.00653</td>\n",
       "    </tr>\n",
       "    <tr>\n",
       "      <th>2</th>\n",
       "      <td>Stratified K-Fold CV</td>\n",
       "      <td>0.869688</td>\n",
       "      <td>0.00351</td>\n",
       "    </tr>\n",
       "    <tr>\n",
       "      <th>3</th>\n",
       "      <td>Leave-One-Out CV</td>\n",
       "      <td>NaN</td>\n",
       "      <td>NaN</td>\n",
       "    </tr>\n",
       "  </tbody>\n",
       "</table>\n",
       "</div>"
      ],
      "text/plain": [
       "                 Method      Mean      Std\n",
       "0           Hold-Out CV  0.869688  0.00351\n",
       "1             K-Fold CV  0.870582  0.00653\n",
       "2  Stratified K-Fold CV  0.869688  0.00351\n",
       "3      Leave-One-Out CV       NaN      NaN"
      ]
     },
     "execution_count": 27,
     "metadata": {},
     "output_type": "execute_result"
    }
   ],
   "source": [
    "result = pd.DataFrame({\n",
    "    'Method': ['Hold-Out CV', 'K-Fold CV', 'Stratified K-Fold CV', 'Leave-One-Out CV'],\n",
    "    'Mean': [hoo_scores.mean(), kf_scores.mean(), kfs_scores.mean(), loo_scores.mean()],\n",
    "    'Std': [hoo_scores.std(), kf_scores.std(), kfs_scores.std(), loo_scores.std()]\n",
    "})\n",
    "result"
   ]
  },
  {
   "cell_type": "markdown",
   "id": "7544af8f-1ace-4101-8836-e0b928aedb92",
   "metadata": {},
   "source": [
    "# Task №7"
   ]
  },
  {
   "cell_type": "code",
   "execution_count": 31,
   "id": "1d374a38-7ef8-460f-8bbe-f20c95dc068d",
   "metadata": {},
   "outputs": [
    {
     "data": {
      "text/html": [
       "<div>\n",
       "<style scoped>\n",
       "    .dataframe tbody tr th:only-of-type {\n",
       "        vertical-align: middle;\n",
       "    }\n",
       "\n",
       "    .dataframe tbody tr th {\n",
       "        vertical-align: top;\n",
       "    }\n",
       "\n",
       "    .dataframe thead th {\n",
       "        text-align: right;\n",
       "    }\n",
       "</style>\n",
       "<table border=\"1\" class=\"dataframe\">\n",
       "  <thead>\n",
       "    <tr style=\"text-align: right;\">\n",
       "      <th></th>\n",
       "      <th>Threshold</th>\n",
       "      <th>TPR</th>\n",
       "      <th>FPR</th>\n",
       "      <th>Precision</th>\n",
       "      <th>F1 Score</th>\n",
       "    </tr>\n",
       "  </thead>\n",
       "  <tbody>\n",
       "    <tr>\n",
       "      <th>0</th>\n",
       "      <td>0.05</td>\n",
       "      <td>0.964377</td>\n",
       "      <td>0.670193</td>\n",
       "      <td>0.260302</td>\n",
       "      <td>0.409951</td>\n",
       "    </tr>\n",
       "    <tr>\n",
       "      <th>1</th>\n",
       "      <td>0.10</td>\n",
       "      <td>0.916031</td>\n",
       "      <td>0.397013</td>\n",
       "      <td>0.360721</td>\n",
       "      <td>0.517613</td>\n",
       "    </tr>\n",
       "    <tr>\n",
       "      <th>2</th>\n",
       "      <td>0.15</td>\n",
       "      <td>0.837150</td>\n",
       "      <td>0.275047</td>\n",
       "      <td>0.426719</td>\n",
       "      <td>0.565292</td>\n",
       "    </tr>\n",
       "    <tr>\n",
       "      <th>3</th>\n",
       "      <td>0.25</td>\n",
       "      <td>0.750636</td>\n",
       "      <td>0.132545</td>\n",
       "      <td>0.580709</td>\n",
       "      <td>0.654828</td>\n",
       "    </tr>\n",
       "    <tr>\n",
       "      <th>4</th>\n",
       "      <td>0.30</td>\n",
       "      <td>0.687023</td>\n",
       "      <td>0.107032</td>\n",
       "      <td>0.610860</td>\n",
       "      <td>0.646707</td>\n",
       "    </tr>\n",
       "  </tbody>\n",
       "</table>\n",
       "</div>"
      ],
      "text/plain": [
       "   Threshold       TPR       FPR  Precision  F1 Score\n",
       "0       0.05  0.964377  0.670193   0.260302  0.409951\n",
       "1       0.10  0.916031  0.397013   0.360721  0.517613\n",
       "2       0.15  0.837150  0.275047   0.426719  0.565292\n",
       "3       0.25  0.750636  0.132545   0.580709  0.654828\n",
       "4       0.30  0.687023  0.107032   0.610860  0.646707"
      ]
     },
     "execution_count": 31,
     "metadata": {},
     "output_type": "execute_result"
    }
   ],
   "source": [
    "from sklearn.metrics import confusion_matrix, precision_score, f1_score\n",
    "y_proba = y_pred_proba_test\n",
    "\n",
    "thresholds = [0.05, 0.1, 0.15, 0.25, 0.3]\n",
    "\n",
    "results_list = []\n",
    "\n",
    "for threshold in thresholds:\n",
    "    y_pred = (y_proba >= threshold).astype(int)\n",
    "    tn, fp, fn, tp = confusion_matrix(y_test, y_pred).ravel()\n",
    "    tpr = tp / (tp + fn) if (tp + fn) > 0 else 0\n",
    "    fpr = fp / (fp + tn) if (fp + tn) > 0 else 0\n",
    "    precision = precision_score(y_test, y_pred)\n",
    "    f1 = f1_score(y_test, y_pred)\n",
    "    \n",
    "    results_list.append({\n",
    "        'Threshold': threshold,\n",
    "        'TPR': tpr,\n",
    "        'FPR': fpr,\n",
    "        'Precision': precision,\n",
    "        'F1 Score': f1\n",
    "    })\n",
    "\n",
    "results_df = pd.DataFrame(results_list)\n",
    "results_df"
   ]
  }
 ],
 "metadata": {
  "kernelspec": {
   "display_name": "ai_lesson_1",
   "language": "python",
   "name": "ai_lesson_1"
  },
  "language_info": {
   "codemirror_mode": {
    "name": "ipython",
    "version": 3
   },
   "file_extension": ".py",
   "mimetype": "text/x-python",
   "name": "python",
   "nbconvert_exporter": "python",
   "pygments_lexer": "ipython3",
   "version": "3.12.2"
  }
 },
 "nbformat": 4,
 "nbformat_minor": 5
}
